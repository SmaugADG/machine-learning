{
 "cells": [
  {
   "cell_type": "code",
   "execution_count": 2,
   "id": "491d5c4f",
   "metadata": {},
   "outputs": [],
   "source": [
    "import numpy as np"
   ]
  },
  {
   "cell_type": "markdown",
   "id": "41e40764",
   "metadata": {},
   "source": [
    "### 生成0和1 的数组"
   ]
  },
  {
   "cell_type": "code",
   "execution_count": 3,
   "id": "7656f970",
   "metadata": {},
   "outputs": [
    {
     "data": {
      "text/plain": [
       "array([[0., 0., 0., 0.],\n",
       "       [0., 0., 0., 0.],\n",
       "       [0., 0., 0., 0.]], dtype=float32)"
      ]
     },
     "execution_count": 3,
     "metadata": {},
     "output_type": "execute_result"
    }
   ],
   "source": [
    "np.zeros(shape=(3,4),dtype=\"float32\")"
   ]
  },
  {
   "cell_type": "code",
   "execution_count": 4,
   "id": "9d9269e5",
   "metadata": {},
   "outputs": [
    {
     "data": {
      "text/plain": [
       "array([[1, 1, 1, 1],\n",
       "       [1, 1, 1, 1],\n",
       "       [1, 1, 1, 1]])"
      ]
     },
     "execution_count": 4,
     "metadata": {},
     "output_type": "execute_result"
    }
   ],
   "source": [
    "np.ones(shape=(3,4),dtype=\"int64\")"
   ]
  },
  {
   "cell_type": "markdown",
   "id": "64318ad6",
   "metadata": {},
   "source": [
    "### 从现有数组生成"
   ]
  },
  {
   "cell_type": "code",
   "execution_count": 5,
   "id": "632b1027",
   "metadata": {},
   "outputs": [],
   "source": [
    "score=np.array([[80, 89, 86, 67, 79],\n",
    "[78, 97, 89, 67, 81],\n",
    "[90, 94, 78, 67, 74],\n",
    "[91, 91, 90, 67, 69],\n",
    "[76, 87, 75, 67, 86],\n",
    "[70, 79, 84, 67, 84],\n",
    "[94, 92, 93, 67, 64],\n",
    "[86, 85, 83, 67, 80]])"
   ]
  },
  {
   "cell_type": "code",
   "execution_count": 6,
   "id": "e977b10c",
   "metadata": {},
   "outputs": [
    {
     "data": {
      "text/plain": [
       "array([[80, 89, 86, 67, 79],\n",
       "       [78, 97, 89, 67, 81],\n",
       "       [90, 94, 78, 67, 74],\n",
       "       [91, 91, 90, 67, 69],\n",
       "       [76, 87, 75, 67, 86],\n",
       "       [70, 79, 84, 67, 84],\n",
       "       [94, 92, 93, 67, 64],\n",
       "       [86, 85, 83, 67, 80]])"
      ]
     },
     "execution_count": 6,
     "metadata": {},
     "output_type": "execute_result"
    }
   ],
   "source": [
    "# np.array()\n",
    "data1=np.array(score)\n",
    "data1"
   ]
  },
  {
   "cell_type": "code",
   "execution_count": 7,
   "id": "8e78cdf6",
   "metadata": {},
   "outputs": [
    {
     "data": {
      "text/plain": [
       "array([[80, 89, 86, 67, 79],\n",
       "       [78, 97, 89, 67, 81],\n",
       "       [90, 94, 78, 67, 74],\n",
       "       [91, 91, 90, 67, 69],\n",
       "       [76, 87, 75, 67, 86],\n",
       "       [70, 79, 84, 67, 84],\n",
       "       [94, 92, 93, 67, 64],\n",
       "       [86, 85, 83, 67, 80]])"
      ]
     },
     "execution_count": 7,
     "metadata": {},
     "output_type": "execute_result"
    }
   ],
   "source": [
    "# np.asarray()\n",
    "data2=np.asarray(score)\n",
    "data2"
   ]
  },
  {
   "cell_type": "code",
   "execution_count": 8,
   "id": "fe8b0a02",
   "metadata": {},
   "outputs": [
    {
     "data": {
      "text/plain": [
       "array([[80, 89, 86, 67, 79],\n",
       "       [78, 97, 89, 67, 81],\n",
       "       [90, 94, 78, 67, 74],\n",
       "       [91, 91, 90, 67, 69],\n",
       "       [76, 87, 75, 67, 86],\n",
       "       [70, 79, 84, 67, 84],\n",
       "       [94, 92, 93, 67, 64],\n",
       "       [86, 85, 83, 67, 80]])"
      ]
     },
     "execution_count": 8,
     "metadata": {},
     "output_type": "execute_result"
    }
   ],
   "source": [
    "# np.copy()\n",
    "data3=np.copy(score)\n",
    "data3"
   ]
  },
  {
   "cell_type": "code",
   "execution_count": 9,
   "id": "34f388b3",
   "metadata": {},
   "outputs": [],
   "source": [
    "# 修改元素\n",
    "score[3,1]=1000"
   ]
  },
  {
   "cell_type": "code",
   "execution_count": 10,
   "id": "5bffe600",
   "metadata": {},
   "outputs": [
    {
     "data": {
      "text/plain": [
       "array([[  80,   89,   86,   67,   79],\n",
       "       [  78,   97,   89,   67,   81],\n",
       "       [  90,   94,   78,   67,   74],\n",
       "       [  91, 1000,   90,   67,   69],\n",
       "       [  76,   87,   75,   67,   86],\n",
       "       [  70,   79,   84,   67,   84],\n",
       "       [  94,   92,   93,   67,   64],\n",
       "       [  86,   85,   83,   67,   80]])"
      ]
     },
     "execution_count": 10,
     "metadata": {},
     "output_type": "execute_result"
    }
   ],
   "source": [
    "score"
   ]
  },
  {
   "cell_type": "code",
   "execution_count": 11,
   "id": "a1aa6642",
   "metadata": {},
   "outputs": [
    {
     "data": {
      "text/plain": [
       "array([[80, 89, 86, 67, 79],\n",
       "       [78, 97, 89, 67, 81],\n",
       "       [90, 94, 78, 67, 74],\n",
       "       [91, 91, 90, 67, 69],\n",
       "       [76, 87, 75, 67, 86],\n",
       "       [70, 79, 84, 67, 84],\n",
       "       [94, 92, 93, 67, 64],\n",
       "       [86, 85, 83, 67, 80]])"
      ]
     },
     "execution_count": 11,
     "metadata": {},
     "output_type": "execute_result"
    }
   ],
   "source": [
    "data1"
   ]
  },
  {
   "cell_type": "code",
   "execution_count": 12,
   "id": "cf44eb87",
   "metadata": {},
   "outputs": [
    {
     "data": {
      "text/plain": [
       "array([[  80,   89,   86,   67,   79],\n",
       "       [  78,   97,   89,   67,   81],\n",
       "       [  90,   94,   78,   67,   74],\n",
       "       [  91, 1000,   90,   67,   69],\n",
       "       [  76,   87,   75,   67,   86],\n",
       "       [  70,   79,   84,   67,   84],\n",
       "       [  94,   92,   93,   67,   64],\n",
       "       [  86,   85,   83,   67,   80]])"
      ]
     },
     "execution_count": 12,
     "metadata": {},
     "output_type": "execute_result"
    }
   ],
   "source": [
    "data2"
   ]
  },
  {
   "cell_type": "code",
   "execution_count": 13,
   "id": "cd3aba8e",
   "metadata": {
    "scrolled": true
   },
   "outputs": [
    {
     "data": {
      "text/plain": [
       "array([[80, 89, 86, 67, 79],\n",
       "       [78, 97, 89, 67, 81],\n",
       "       [90, 94, 78, 67, 74],\n",
       "       [91, 91, 90, 67, 69],\n",
       "       [76, 87, 75, 67, 86],\n",
       "       [70, 79, 84, 67, 84],\n",
       "       [94, 92, 93, 67, 64],\n",
       "       [86, 85, 83, 67, 80]])"
      ]
     },
     "execution_count": 13,
     "metadata": {},
     "output_type": "execute_result"
    }
   ],
   "source": [
    "data3"
   ]
  },
  {
   "cell_type": "code",
   "execution_count": 14,
   "id": "67f5241d",
   "metadata": {},
   "outputs": [],
   "source": [
    "# np.asarray()为浅拷贝，其他两个为深拷贝"
   ]
  },
  {
   "cell_type": "markdown",
   "id": "f7d9ea0e",
   "metadata": {},
   "source": [
    "### 生成固定范围的数组"
   ]
  },
  {
   "cell_type": "code",
   "execution_count": 17,
   "id": "d99c589c",
   "metadata": {},
   "outputs": [
    {
     "data": {
      "text/plain": [
       "array([ 0. ,  2.5,  5. ,  7.5, 10. ])"
      ]
     },
     "execution_count": 17,
     "metadata": {},
     "output_type": "execute_result"
    }
   ],
   "source": [
    "# 闭区间\n",
    "np.linspace(0,10,5)"
   ]
  },
  {
   "cell_type": "code",
   "execution_count": 18,
   "id": "05f6cd76",
   "metadata": {},
   "outputs": [
    {
     "data": {
      "text/plain": [
       "array([0, 5])"
      ]
     },
     "execution_count": 18,
     "metadata": {},
     "output_type": "execute_result"
    }
   ],
   "source": [
    "# 左闭右开\n",
    "np.arange(0,10,5)"
   ]
  },
  {
   "cell_type": "markdown",
   "id": "ce9f5346",
   "metadata": {},
   "source": [
    "### 生成随机数"
   ]
  },
  {
   "cell_type": "code",
   "execution_count": 20,
   "id": "195be064",
   "metadata": {},
   "outputs": [],
   "source": [
    "# 均匀分布\n",
    "data1=np.random.uniform(low=-1,high=1,size=100000)"
   ]
  },
  {
   "cell_type": "code",
   "execution_count": 21,
   "id": "c0161b9a",
   "metadata": {},
   "outputs": [
    {
     "data": {
      "text/plain": [
       "array([ 0.93840204, -0.0503978 ,  0.66728106, ..., -0.98706868,\n",
       "       -0.07385571,  0.5892644 ])"
      ]
     },
     "execution_count": 21,
     "metadata": {},
     "output_type": "execute_result"
    }
   ],
   "source": [
    "data1"
   ]
  },
  {
   "cell_type": "code",
   "execution_count": 24,
   "id": "60d23667",
   "metadata": {},
   "outputs": [
    {
     "data": {
      "image/png": "[encoded data removed]",
      "text/plain": [
       "<Figure size 1600x640 with 1 Axes>"
      ]
     },
     "metadata": {
      "needs_background": "light"
     },
     "output_type": "display_data"
    }
   ],
   "source": [
    "import matplotlib.pyplot as plt\n",
    "plt.figure(figsize=(20,8),dpi=80)\n",
    "plt.hist(data1,1000)\n",
    "\n",
    "plt.show()"
   ]
  },
  {
   "cell_type": "code",
   "execution_count": null,
   "id": "c73f3023",
   "metadata": {},
   "outputs": [],
   "source": [
    "# 正态分布"
   ]
  },
  {
   "cell_type": "code",
   "execution_count": 25,
   "id": "96d2c580",
   "metadata": {},
   "outputs": [
    {
     "data": {
      "text/plain": [
       "array([1.61710266, 1.71765656, 1.70231139, ..., 1.56709466, 1.94598677,\n",
       "       1.66892061])"
      ]
     },
     "execution_count": 25,
     "metadata": {},
     "output_type": "execute_result"
    }
   ],
   "source": [
    "data2=np.random.normal(loc=1.75,scale=0.1,size=100000)\n",
    "data2"
   ]
  },
  {
   "cell_type": "code",
   "execution_count": 26,
   "id": "ecc9ec9f",
   "metadata": {},
   "outputs": [
    {
     "data": {
      "image/png": "[encoded data removed]",
      "text/plain": [
       "<Figure size 1600x640 with 1 Axes>"
      ]
     },
     "metadata": {
      "needs_background": "light"
     },
     "output_type": "display_data"
    }
   ],
   "source": [
    "import matplotlib.pyplot as plt\n",
    "plt.figure(figsize=(20,8),dpi=80)\n",
    "plt.hist(data2,1000)\n",
    "\n",
    "plt.show()"
   ]
  },
  {
   "cell_type": "markdown",
   "id": "1092bf85",
   "metadata": {},
   "source": [
    "## 案例：随机生成8只股票2周的交易日涨幅数据"
   ]
  },
  {
   "cell_type": "code",
   "execution_count": 27,
   "id": "0e65f5fc",
   "metadata": {},
   "outputs": [],
   "source": [
    "# 使用正态分布产生数据模拟随机生成2周股票交易数"
   ]
  },
  {
   "cell_type": "code",
   "execution_count": 28,
   "id": "590b9efb",
   "metadata": {},
   "outputs": [],
   "source": [
    "stock_change=np.random.normal(loc=0,scale=1,size=(8,10))"
   ]
  },
  {
   "cell_type": "code",
   "execution_count": 29,
   "id": "fbc2b318",
   "metadata": {},
   "outputs": [
    {
     "data": {
      "text/plain": [
       "array([[-0.75177306,  1.59245433, -0.11882233,  0.39265754, -0.20355337,\n",
       "        -0.23184878,  0.51111982, -1.18822983,  0.18797876, -0.18235816],\n",
       "       [ 0.02577542,  0.31652371, -1.47183422, -0.10064044, -1.07393887,\n",
       "        -0.40366556,  1.84413784, -0.79625975, -0.42125305, -0.60381821],\n",
       "       [ 0.34204833,  0.35765198,  0.34855223, -0.54451365, -1.29493169,\n",
       "        -0.99230221, -0.16230781,  0.84879538, -0.34469558, -0.37353005],\n",
       "       [ 1.93560542,  1.43633467, -0.59079268, -0.04218428, -0.07305474,\n",
       "         2.08482853, -0.85434657,  0.60653333,  0.53900429,  0.35397411],\n",
       "       [-0.03224434,  2.35275521, -0.15018372, -0.23895651,  0.28125742,\n",
       "         0.76963754,  2.01114446,  0.12810984, -1.47704063, -1.20859633],\n",
       "       [-1.84500719, -0.8746261 , -1.43175593, -1.109557  , -2.04461056,\n",
       "         1.61498683, -0.02568226,  0.40253674,  0.72059792,  1.44271097],\n",
       "       [-0.268537  , -1.09049063,  0.20662967,  0.16905584, -0.10748197,\n",
       "         0.84478282,  0.46112952, -0.20577788,  1.28636867, -0.21208612],\n",
       "       [-0.09349903, -0.2078118 , -0.97010625, -1.43007063, -1.26189716,\n",
       "        -0.74834066, -0.19027254,  0.08696671,  1.4881254 , -0.88522037]])"
      ]
     },
     "execution_count": 29,
     "metadata": {},
     "output_type": "execute_result"
    }
   ],
   "source": [
    "stock_change"
   ]
  },
  {
   "cell_type": "markdown",
   "id": "effd5c02",
   "metadata": {},
   "source": [
    "### 数组的索引和切片"
   ]
  },
  {
   "cell_type": "code",
   "execution_count": 30,
   "id": "23f346fa",
   "metadata": {},
   "outputs": [
    {
     "data": {
      "text/plain": [
       "array([-0.75177306,  1.59245433, -0.11882233])"
      ]
     },
     "execution_count": 30,
     "metadata": {},
     "output_type": "execute_result"
    }
   ],
   "source": [
    "# 获取第一个股票前三个交易日的涨跌幅数据\n",
    "stock_change[0,0:3]"
   ]
  },
  {
   "cell_type": "code",
   "execution_count": 31,
   "id": "aef1c2b2",
   "metadata": {},
   "outputs": [],
   "source": [
    "# 三维数组获得索引\n",
    "a1 = np.array([ [[1,2,3],[4,5,6]], [[12,3,34],[5,6,7]]])"
   ]
  },
  {
   "cell_type": "code",
   "execution_count": 32,
   "id": "c3af2a13",
   "metadata": {},
   "outputs": [
    {
     "data": {
      "text/plain": [
       "array([[[ 1,  2,  3],\n",
       "        [ 4,  5,  6]],\n",
       "\n",
       "       [[12,  3, 34],\n",
       "        [ 5,  6,  7]]])"
      ]
     },
     "execution_count": 32,
     "metadata": {},
     "output_type": "execute_result"
    }
   ],
   "source": [
    "a1"
   ]
  },
  {
   "cell_type": "code",
   "execution_count": 33,
   "id": "1ce12846",
   "metadata": {},
   "outputs": [
    {
     "data": {
      "text/plain": [
       "(2, 2, 3)"
      ]
     },
     "execution_count": 33,
     "metadata": {},
     "output_type": "execute_result"
    }
   ],
   "source": [
    "a1.shape"
   ]
  },
  {
   "cell_type": "code",
   "execution_count": 35,
   "id": "063f4302",
   "metadata": {},
   "outputs": [
    {
     "data": {
      "text/plain": [
       "34"
      ]
     },
     "execution_count": 35,
     "metadata": {},
     "output_type": "execute_result"
    }
   ],
   "source": [
    "# 元素34的索引\n",
    "a1[1,0,2]"
   ]
  },
  {
   "cell_type": "markdown",
   "id": "54c8f973",
   "metadata": {},
   "source": [
    "### 形状修改"
   ]
  },
  {
   "cell_type": "code",
   "execution_count": 36,
   "id": "2b6b49e3",
   "metadata": {},
   "outputs": [
    {
     "data": {
      "text/plain": [
       "array([[-0.75177306,  1.59245433, -0.11882233,  0.39265754, -0.20355337,\n",
       "        -0.23184878,  0.51111982, -1.18822983,  0.18797876, -0.18235816],\n",
       "       [ 0.02577542,  0.31652371, -1.47183422, -0.10064044, -1.07393887,\n",
       "        -0.40366556,  1.84413784, -0.79625975, -0.42125305, -0.60381821],\n",
       "       [ 0.34204833,  0.35765198,  0.34855223, -0.54451365, -1.29493169,\n",
       "        -0.99230221, -0.16230781,  0.84879538, -0.34469558, -0.37353005],\n",
       "       [ 1.93560542,  1.43633467, -0.59079268, -0.04218428, -0.07305474,\n",
       "         2.08482853, -0.85434657,  0.60653333,  0.53900429,  0.35397411],\n",
       "       [-0.03224434,  2.35275521, -0.15018372, -0.23895651,  0.28125742,\n",
       "         0.76963754,  2.01114446,  0.12810984, -1.47704063, -1.20859633],\n",
       "       [-1.84500719, -0.8746261 , -1.43175593, -1.109557  , -2.04461056,\n",
       "         1.61498683, -0.02568226,  0.40253674,  0.72059792,  1.44271097],\n",
       "       [-0.268537  , -1.09049063,  0.20662967,  0.16905584, -0.10748197,\n",
       "         0.84478282,  0.46112952, -0.20577788,  1.28636867, -0.21208612],\n",
       "       [-0.09349903, -0.2078118 , -0.97010625, -1.43007063, -1.26189716,\n",
       "        -0.74834066, -0.19027254,  0.08696671,  1.4881254 , -0.88522037]])"
      ]
     },
     "execution_count": 36,
     "metadata": {},
     "output_type": "execute_result"
    }
   ],
   "source": [
    "#  需求：让刚才的股票行、日期列反过来，变成日期行，股票列\n",
    "stock_change"
   ]
  },
  {
   "cell_type": "code",
   "execution_count": 37,
   "id": "9ad805d7",
   "metadata": {},
   "outputs": [
    {
     "data": {
      "text/plain": [
       "(8, 10)"
      ]
     },
     "execution_count": 37,
     "metadata": {},
     "output_type": "execute_result"
    }
   ],
   "source": [
    "stock_change.shape"
   ]
  },
  {
   "cell_type": "code",
   "execution_count": 39,
   "id": "e8eea4a0",
   "metadata": {},
   "outputs": [
    {
     "data": {
      "text/plain": [
       "array([[-0.75177306,  1.59245433, -0.11882233,  0.39265754, -0.20355337,\n",
       "        -0.23184878,  0.51111982, -1.18822983],\n",
       "       [ 0.18797876, -0.18235816,  0.02577542,  0.31652371, -1.47183422,\n",
       "        -0.10064044, -1.07393887, -0.40366556],\n",
       "       [ 1.84413784, -0.79625975, -0.42125305, -0.60381821,  0.34204833,\n",
       "         0.35765198,  0.34855223, -0.54451365],\n",
       "       [-1.29493169, -0.99230221, -0.16230781,  0.84879538, -0.34469558,\n",
       "        -0.37353005,  1.93560542,  1.43633467],\n",
       "       [-0.59079268, -0.04218428, -0.07305474,  2.08482853, -0.85434657,\n",
       "         0.60653333,  0.53900429,  0.35397411],\n",
       "       [-0.03224434,  2.35275521, -0.15018372, -0.23895651,  0.28125742,\n",
       "         0.76963754,  2.01114446,  0.12810984],\n",
       "       [-1.47704063, -1.20859633, -1.84500719, -0.8746261 , -1.43175593,\n",
       "        -1.109557  , -2.04461056,  1.61498683],\n",
       "       [-0.02568226,  0.40253674,  0.72059792,  1.44271097, -0.268537  ,\n",
       "        -1.09049063,  0.20662967,  0.16905584],\n",
       "       [-0.10748197,  0.84478282,  0.46112952, -0.20577788,  1.28636867,\n",
       "        -0.21208612, -0.09349903, -0.2078118 ],\n",
       "       [-0.97010625, -1.43007063, -1.26189716, -0.74834066, -0.19027254,\n",
       "         0.08696671,  1.4881254 , -0.88522037]])"
      ]
     },
     "execution_count": 39,
     "metadata": {},
     "output_type": "execute_result"
    }
   ],
   "source": [
    "# reshape只修改了形状,返回新的ndarray\n",
    "stock_change.reshape((10,8))"
   ]
  },
  {
   "cell_type": "code",
   "execution_count": 41,
   "id": "ad07a1c0",
   "metadata": {},
   "outputs": [
    {
     "data": {
      "text/plain": [
       "(10, 8)"
      ]
     },
     "execution_count": 41,
     "metadata": {},
     "output_type": "execute_result"
    }
   ],
   "source": [
    "# resize 在原来的基础上修改shape\n",
    "stock_change.resize((10,8))\n",
    "stock_change.shape"
   ]
  },
  {
   "cell_type": "code",
   "execution_count": 42,
   "id": "fe2b73b8",
   "metadata": {},
   "outputs": [],
   "source": [
    "stock_change.resize((8,10))"
   ]
  },
  {
   "cell_type": "code",
   "execution_count": 44,
   "id": "70980492",
   "metadata": {},
   "outputs": [
    {
     "data": {
      "text/plain": [
       "(10, 8)"
      ]
     },
     "execution_count": 44,
     "metadata": {},
     "output_type": "execute_result"
    }
   ],
   "source": [
    "# 转置\n",
    "stock_change.T.shape"
   ]
  },
  {
   "cell_type": "markdown",
   "id": "760b87e6",
   "metadata": {},
   "source": [
    "### 类型修改"
   ]
  },
  {
   "cell_type": "code",
   "execution_count": 46,
   "id": "0bfb9b4b",
   "metadata": {},
   "outputs": [
    {
     "data": {
      "text/plain": [
       "array([[ 0,  1,  0,  0,  0,  0,  0, -1,  0,  0],\n",
       "       [ 0,  0, -1,  0, -1,  0,  1,  0,  0,  0],\n",
       "       [ 0,  0,  0,  0, -1,  0,  0,  0,  0,  0],\n",
       "       [ 1,  1,  0,  0,  0,  2,  0,  0,  0,  0],\n",
       "       [ 0,  2,  0,  0,  0,  0,  2,  0, -1, -1],\n",
       "       [-1,  0, -1, -1, -2,  1,  0,  0,  0,  1],\n",
       "       [ 0, -1,  0,  0,  0,  0,  0,  0,  1,  0],\n",
       "       [ 0,  0,  0, -1, -1,  0,  0,  0,  1,  0]], dtype=int32)"
      ]
     },
     "execution_count": 46,
     "metadata": {},
     "output_type": "execute_result"
    }
   ],
   "source": [
    "stock_change.astype(\"int32\")"
   ]
  },
  {
   "cell_type": "code",
   "execution_count": 47,
   "id": "03581324",
   "metadata": {},
   "outputs": [
    {
     "data": {
      "text/plain": [
       "b\"$t}`\\x86\\x0e\\xe8\\xbf\\x13\\xec\\x07d\\xb1z\\xf9?2'\\x1a\\xf1#k\\xbe\\xbft'\\\\\\x1bM!\\xd9?\\xb7yph\\t\\x0e\\xca\\xbf\\x0e\\xab\\x90\\x918\\xad\\xcd\\xbfq \\xe4\\xf3\\x17[\\xe0?\\xaf\\xbf\\xbbG\\xfd\\x02\\xf3\\xbfO`\\xc1%\\xb0\\x0f\\xc8?\\xc8\\xae\\x91\\x18\\x83W\\xc7\\xbf\\x07\\xa4+h\\xdfd\\x9a?\\xf1@\\xaf\\xaa\\xecA\\xd4?\\xd4G8\\t\\xa2\\x8c\\xf7\\xbf\\x9cu\\xa0c\\x92\\xc3\\xb9\\xbf\\x03\\x94\\x8a\\x85\\xda.\\xf1\\xbf\\t\\xf9:\\x10\\xa8\\xd5\\xd9\\xbf\\x1b\\xcdi\\xad\\x96\\x81\\xfd?V\\xb2\\x1f\\xb8\\xf5z\\xe9\\xbfBW\\xd1W\\xcf\\xf5\\xda\\xbfD{t\\x90zR\\xe3\\xbf\\xba\\x18T\\xb2\\x1e\\xe4\\xd5?\\xca\\xd8a\\x1f\\xc5\\xe3\\xd6?\\xec\\x93\\xa2\\x02\\xaeN\\xd6?\\xb5\\x08>\\xe4\\xa7l\\xe1\\xbf\\xeb\\xc7\\x9dI\\n\\xb8\\xf4\\xbf\\x0eY\\xbb\\x8f\\xf0\\xc0\\xef\\xbf \\xad\\xb6\\x98\\x80\\xc6\\xc4\\xbf\\xc5\\xea\\xc0\\xeeT)\\xeb?\\x83}:\\x0e~\\x0f\\xd6\\xbfJ\\xb4\\xdf\\x98\\xea\\xe7\\xd7\\xbf\\xf1\\xe7md=\\xf8\\xfe?\\\\4\\xcc\\x0f:\\xfb\\xf6?<H\\xd5\\x0b\\xc6\\xe7\\xe2\\xbf^\\x83\\xf5\\xa3-\\x99\\xa5\\xbf\\xc4\\xda\\x034\\xb7\\xb3\\xb2\\xbf\\x13\\xda\\xb3\\x94\\xba\\xad\\x00@D\\x18\\x15\\x9f\\xceV\\xeb\\xbf\\xf6u&\\x94\\xb8h\\xe3?\\xc7\\xd19\\xee\\x85?\\xe1?;k\\xbb\\x02\\x83\\xa7\\xd6?s\\xc4\\xe9pT\\x82\\xa0\\xbf\\xd8\\x86eRq\\xd2\\x02@\\xccd\\xda\\\\89\\xc3\\xbf07\\xc5x \\x96\\xce\\xbfXe\\xcf#\\x1f\\x00\\xd2?\\xedx\\xd4\\xe9\\xde\\xa0\\xe8?\\x8a\\xe3\\xe1\\xe7\\xd2\\x16\\x00@\\xc7\\xb2eD\\xe7e\\xc0?\\n\\xef\\x05Z\\xf5\\xa1\\xf7\\xbf\\x04\\xf6\\x0b\\x1biV\\xf3\\xbf:\\xa0\\xfbA&\\x85\\xfd\\xbf\\x91\\x14\\xe9\\xdf\\xef\\xfc\\xeb\\xbf\\xfaG\\xbb\\xe6x\\xe8\\xf6\\xbf.\\xd5C\\xd6\\xbe\\xc0\\xf1\\xbf\\x1f|\\x8c\\xc7\\\\[\\x00\\xc0\\xe0\\x8djo\\xfc\\xd6\\xf9?~HYYsL\\x9a\\xbf2h\\x87r)\\xc3\\xd9?\\x9e`\\xf0^#\\x0f\\xe7?\\xa0(\\xc4\\x19X\\x15\\xf7?\\x12\\xa2`\\xd0\\xb5/\\xd1\\xbf\\x04}\\xd7L\\xa6r\\xf1\\xbf\\xc3{vD\\xd7r\\xca?\\xb4\\xc1\\xf4&\\x9f\\xa3\\xc5?\\xc5\\x8b\\x9f/\\xf0\\x83\\xbb\\xbf\\x9d[\\xfd\\xfbu\\x08\\xeb?\\x8e\\x9a\\xaaa%\\x83\\xdd?\\xa0c\\x18\\xef\\xedV\\xca\\xbf\\x95 \\xc9O\\xf7\\x94\\xf4?ID\\xf6Z\\xa3%\\xcb\\xbfR\\x8d\\x80p\\x8d\\xef\\xb7\\xbf\\xb6\\xd4\\xdc\\xb5\\x93\\x99\\xca\\xbf\\x0f#UE\\x1c\\x0b\\xef\\xbfe\\xf3\\xe8\\xbe\\x91\\xe1\\xf6\\xbf\\x0e\\x11\\x99\\x12\\xbb0\\xf4\\xbf\\xfc\\x90V\\x1bh\\xf2\\xe7\\xbf\\x86\\x9c\\xc8\\xc1\\xd9Z\\xc8\\xbfZ\\x0b\\\\NsC\\xb6?\\xbe\\xad\\\\\\x94\\\\\\xcf\\xf7?\\xf9IB\\xab\\xb9S\\xec\\xbf\""
      ]
     },
     "execution_count": 47,
     "metadata": {},
     "output_type": "execute_result"
    }
   ],
   "source": [
    "# 序列化\n",
    "stock_change.tostring()"
   ]
  },
  {
   "cell_type": "markdown",
   "id": "f539d706",
   "metadata": {},
   "source": [
    "### 数组的去重"
   ]
  },
  {
   "cell_type": "code",
   "execution_count": 48,
   "id": "09d22949",
   "metadata": {},
   "outputs": [
    {
     "data": {
      "text/plain": [
       "array([[1, 2, 3, 4],\n",
       "       [3, 4, 5, 6]])"
      ]
     },
     "execution_count": 48,
     "metadata": {},
     "output_type": "execute_result"
    }
   ],
   "source": [
    "temp = np.array([[1, 2, 3, 4],[3, 4, 5, 6]])\n",
    "temp"
   ]
  },
  {
   "cell_type": "code",
   "execution_count": 49,
   "id": "bc234417",
   "metadata": {},
   "outputs": [
    {
     "data": {
      "text/plain": [
       "array([1, 2, 3, 4, 5, 6])"
      ]
     },
     "execution_count": 49,
     "metadata": {},
     "output_type": "execute_result"
    }
   ],
   "source": [
    "# 方式一 使用unique\n",
    "np.unique(temp)"
   ]
  },
  {
   "cell_type": "code",
   "execution_count": 50,
   "id": "b64203e5",
   "metadata": {},
   "outputs": [
    {
     "data": {
      "text/plain": [
       "{1, 2, 3, 4, 5, 6}"
      ]
     },
     "execution_count": 50,
     "metadata": {},
     "output_type": "execute_result"
    }
   ],
   "source": [
    "# 方式二 使用set()\n",
    "# flatten()将二维数组一维化\n",
    "set(temp.flatten())"
   ]
  },
  {
   "cell_type": "code",
   "execution_count": null,
   "id": "726f17b9",
   "metadata": {},
   "outputs": [],
   "source": []
  }
 ],
 "metadata": {
  "kernelspec": {
   "display_name": "Python 3",
   "language": "python",
   "name": "python3"
  },
  "language_info": {
   "codemirror_mode": {
    "name": "ipython",
    "version": 3
   },
   "file_extension": ".py",
   "mimetype": "text/x-python",
   "name": "python",
   "nbconvert_exporter": "python",
   "pygments_lexer": "ipython3",
   "version": "3.6.8"
  }
 },
 "nbformat": 4,
 "nbformat_minor": 5
}
