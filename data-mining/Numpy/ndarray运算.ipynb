{
 "cells": [
  {
   "cell_type": "markdown",
   "id": "4b82bed9",
   "metadata": {},
   "source": [
    "### 逻辑运算"
   ]
  },
  {
   "cell_type": "code",
   "execution_count": 2,
   "id": "990e3b4a",
   "metadata": {},
   "outputs": [],
   "source": [
    "import numpy as np"
   ]
  },
  {
   "cell_type": "code",
   "execution_count": 3,
   "id": "837ee697",
   "metadata": {},
   "outputs": [],
   "source": [
    "stock_change = np.random.normal(loc=0, scale=1, size=(8, 10))"
   ]
  },
  {
   "cell_type": "code",
   "execution_count": 4,
   "id": "a14b22f1",
   "metadata": {},
   "outputs": [
    {
     "data": {
      "text/plain": [
       "array([[-0.15300127,  0.70389633,  0.69301884, -0.35333398,  0.32463125,\n",
       "         1.58457126, -0.22211039, -0.20524564,  1.04071951, -0.32022153],\n",
       "       [-0.11259722,  0.68780473, -0.12602656, -1.77213498, -1.47953757,\n",
       "        -0.13869312, -0.99001123, -1.92643681,  0.67201353, -0.37154792],\n",
       "       [-0.57970734,  0.52036877,  0.05771015, -1.05702836,  3.02075626,\n",
       "        -0.01720521,  1.67692736, -0.93173482, -0.23598452, -1.54540283],\n",
       "       [ 0.65564039,  0.34991612, -0.02679558, -1.31992426,  0.95960559,\n",
       "        -0.01323778,  0.60085575,  1.59890778, -0.86652588,  2.1373348 ],\n",
       "       [ 0.99418836,  0.08581109,  1.12703444, -1.17488511,  0.28382814,\n",
       "        -0.72595193,  0.29201744, -1.40951649,  2.88471718,  0.16652846],\n",
       "       [-1.27300928, -0.40661829, -1.12781498, -0.61512274,  0.76036834,\n",
       "         2.24496715, -0.70693072,  1.29690691, -1.40341721,  0.06968774],\n",
       "       [ 0.41524942, -0.76006381, -0.55250802,  0.41011491, -0.6353757 ,\n",
       "         1.49641379, -0.59148493,  1.13811587, -0.38657096, -0.78666641],\n",
       "       [ 0.89383982,  0.70253505,  1.22809768, -1.39654183,  2.08709202,\n",
       "        -1.94194018,  0.96989316, -1.2656194 ,  0.73908115,  0.36750742]])"
      ]
     },
     "execution_count": 4,
     "metadata": {},
     "output_type": "execute_result"
    }
   ],
   "source": [
    "stock_change"
   ]
  },
  {
   "cell_type": "code",
   "execution_count": 5,
   "id": "3d17e4c3",
   "metadata": {},
   "outputs": [
    {
     "data": {
      "text/plain": [
       "array([[False,  True,  True, False, False,  True, False, False,  True,\n",
       "        False],\n",
       "       [False,  True, False, False, False, False, False, False,  True,\n",
       "        False],\n",
       "       [False,  True, False, False,  True, False,  True, False, False,\n",
       "        False],\n",
       "       [ True, False, False, False,  True, False,  True,  True, False,\n",
       "         True],\n",
       "       [ True, False,  True, False, False, False, False, False,  True,\n",
       "        False],\n",
       "       [False, False, False, False,  True,  True, False,  True, False,\n",
       "        False],\n",
       "       [False, False, False, False, False,  True, False,  True, False,\n",
       "        False],\n",
       "       [ True,  True,  True, False,  True, False,  True, False,  True,\n",
       "        False]])"
      ]
     },
     "execution_count": 5,
     "metadata": {},
     "output_type": "execute_result"
    }
   ],
   "source": [
    "# 逻辑判断：如果涨跌幅大于0.5就标记为True，否则为false\n",
    "stock_change>0.5"
   ]
  },
  {
   "cell_type": "code",
   "execution_count": 6,
   "id": "4100482c",
   "metadata": {},
   "outputs": [],
   "source": [
    "# bool索引\n",
    "stock_change[stock_change>0.5]=1.1"
   ]
  },
  {
   "cell_type": "code",
   "execution_count": 7,
   "id": "d235aa3f",
   "metadata": {},
   "outputs": [
    {
     "data": {
      "text/plain": [
       "array([[-0.15300127,  1.1       ,  1.1       , -0.35333398,  0.32463125,\n",
       "         1.1       , -0.22211039, -0.20524564,  1.1       , -0.32022153],\n",
       "       [-0.11259722,  1.1       , -0.12602656, -1.77213498, -1.47953757,\n",
       "        -0.13869312, -0.99001123, -1.92643681,  1.1       , -0.37154792],\n",
       "       [-0.57970734,  1.1       ,  0.05771015, -1.05702836,  1.1       ,\n",
       "        -0.01720521,  1.1       , -0.93173482, -0.23598452, -1.54540283],\n",
       "       [ 1.1       ,  0.34991612, -0.02679558, -1.31992426,  1.1       ,\n",
       "        -0.01323778,  1.1       ,  1.1       , -0.86652588,  1.1       ],\n",
       "       [ 1.1       ,  0.08581109,  1.1       , -1.17488511,  0.28382814,\n",
       "        -0.72595193,  0.29201744, -1.40951649,  1.1       ,  0.16652846],\n",
       "       [-1.27300928, -0.40661829, -1.12781498, -0.61512274,  1.1       ,\n",
       "         1.1       , -0.70693072,  1.1       , -1.40341721,  0.06968774],\n",
       "       [ 0.41524942, -0.76006381, -0.55250802,  0.41011491, -0.6353757 ,\n",
       "         1.1       , -0.59148493,  1.1       , -0.38657096, -0.78666641],\n",
       "       [ 1.1       ,  1.1       ,  1.1       , -1.39654183,  1.1       ,\n",
       "        -1.94194018,  1.1       , -1.2656194 ,  1.1       ,  0.36750742]])"
      ]
     },
     "execution_count": 7,
     "metadata": {},
     "output_type": "execute_result"
    }
   ],
   "source": [
    "stock_change"
   ]
  },
  {
   "cell_type": "code",
   "execution_count": 8,
   "id": "effe82b8",
   "metadata": {},
   "outputs": [
    {
     "data": {
      "text/plain": [
       "False"
      ]
     },
     "execution_count": 8,
     "metadata": {},
     "output_type": "execute_result"
    }
   ],
   "source": [
    "#  通用判断函数\n",
    "# np.all()：只要有一个false就返回false ,全都为TRUE才返回TRUE\n",
    "np.all(stock_change>0.5)"
   ]
  },
  {
   "cell_type": "code",
   "execution_count": 9,
   "id": "1722540c",
   "metadata": {},
   "outputs": [
    {
     "data": {
      "text/plain": [
       "True"
      ]
     },
     "execution_count": 9,
     "metadata": {},
     "output_type": "execute_result"
    }
   ],
   "source": [
    "# np.any():只要有一个为true就返回TRUE，全都为false返回false\n",
    "np.any(stock_change>0.5)"
   ]
  },
  {
   "cell_type": "code",
   "execution_count": 11,
   "id": "4711a106",
   "metadata": {},
   "outputs": [
    {
     "data": {
      "text/plain": [
       "array([[False,  True,  True, False,  True],\n",
       "       [False,  True, False, False, False]])"
      ]
     },
     "execution_count": 11,
     "metadata": {},
     "output_type": "execute_result"
    }
   ],
   "source": [
    "# 判断stock_change[0:2,0:5]是否全部上涨\n",
    "stock_change[0:2,0:5]>0"
   ]
  },
  {
   "cell_type": "code",
   "execution_count": 12,
   "id": "06a70889",
   "metadata": {},
   "outputs": [
    {
     "data": {
      "text/plain": [
       "False"
      ]
     },
     "execution_count": 12,
     "metadata": {},
     "output_type": "execute_result"
    }
   ],
   "source": [
    "np.all(stock_change[0:2,0:5]>0)"
   ]
  },
  {
   "cell_type": "code",
   "execution_count": 13,
   "id": "e0b85ebd",
   "metadata": {},
   "outputs": [
    {
     "data": {
      "text/plain": [
       "True"
      ]
     },
     "execution_count": 13,
     "metadata": {},
     "output_type": "execute_result"
    }
   ],
   "source": [
    "np.any(stock_change[0:2,0:5]>0)"
   ]
  },
  {
   "cell_type": "code",
   "execution_count": 14,
   "id": "8461a78c",
   "metadata": {},
   "outputs": [],
   "source": [
    "# 三元运算符 np.where()\n",
    "# # 判断前四个股票前四天的涨跌幅 大于0的置为1，否则为0\n",
    "temp=stock_change[:4,:4]"
   ]
  },
  {
   "cell_type": "code",
   "execution_count": 15,
   "id": "852ef9e5",
   "metadata": {},
   "outputs": [
    {
     "data": {
      "text/plain": [
       "array([[-0.15300127,  1.1       ,  1.1       , -0.35333398],\n",
       "       [-0.11259722,  1.1       , -0.12602656, -1.77213498],\n",
       "       [-0.57970734,  1.1       ,  0.05771015, -1.05702836],\n",
       "       [ 1.1       ,  0.34991612, -0.02679558, -1.31992426]])"
      ]
     },
     "execution_count": 15,
     "metadata": {},
     "output_type": "execute_result"
    }
   ],
   "source": [
    "temp"
   ]
  },
  {
   "cell_type": "code",
   "execution_count": 16,
   "id": "2431001e",
   "metadata": {},
   "outputs": [
    {
     "data": {
      "text/plain": [
       "array([[0, 1, 1, 0],\n",
       "       [0, 1, 0, 0],\n",
       "       [0, 1, 1, 0],\n",
       "       [1, 1, 0, 0]])"
      ]
     },
     "execution_count": 16,
     "metadata": {},
     "output_type": "execute_result"
    }
   ],
   "source": [
    "np.where(temp>0,1,0)"
   ]
  },
  {
   "cell_type": "code",
   "execution_count": 17,
   "id": "b0657373",
   "metadata": {},
   "outputs": [
    {
     "data": {
      "text/plain": [
       "array([[False,  True,  True, False],\n",
       "       [False,  True, False, False],\n",
       "       [False,  True,  True, False],\n",
       "       [ True,  True, False, False]])"
      ]
     },
     "execution_count": 17,
     "metadata": {},
     "output_type": "execute_result"
    }
   ],
   "source": [
    "temp>0"
   ]
  },
  {
   "cell_type": "code",
   "execution_count": 18,
   "id": "0d0db3e6",
   "metadata": {},
   "outputs": [
    {
     "data": {
      "text/plain": [
       "array([[False, False, False, False],\n",
       "       [False, False, False, False],\n",
       "       [False, False, False, False],\n",
       "       [False, False, False, False]])"
      ]
     },
     "execution_count": 18,
     "metadata": {},
     "output_type": "execute_result"
    }
   ],
   "source": [
    "# 判断前四个股票前四天的涨跌幅 大于0.5并且小于1的，换为1，否则为0\n",
    "# 判断前四个股票前四天的涨跌幅 大于0.5或者小于-0.5的，换为1，否则为0\n",
    "np.logical_and(temp>0.5,temp<1)"
   ]
  },
  {
   "cell_type": "code",
   "execution_count": 19,
   "id": "41897e75",
   "metadata": {},
   "outputs": [
    {
     "data": {
      "text/plain": [
       "array([[False,  True,  True, False],\n",
       "       [False,  True, False,  True],\n",
       "       [ True,  True, False,  True],\n",
       "       [ True, False, False,  True]])"
      ]
     },
     "execution_count": 19,
     "metadata": {},
     "output_type": "execute_result"
    }
   ],
   "source": [
    "np.logical_or(temp>0.5,temp<-0.5)"
   ]
  },
  {
   "cell_type": "markdown",
   "id": "ceb7ff5b",
   "metadata": {},
   "source": [
    "### 统计运算"
   ]
  },
  {
   "cell_type": "code",
   "execution_count": 20,
   "id": "628246e4",
   "metadata": {},
   "outputs": [],
   "source": [
    "# 统计指标 min max mean "
   ]
  },
  {
   "cell_type": "code",
   "execution_count": 21,
   "id": "53a96812",
   "metadata": {},
   "outputs": [
    {
     "data": {
      "text/plain": [
       "array([[-0.15300127,  1.1       ,  1.1       , -0.35333398],\n",
       "       [-0.11259722,  1.1       , -0.12602656, -1.77213498],\n",
       "       [-0.57970734,  1.1       ,  0.05771015, -1.05702836],\n",
       "       [ 1.1       ,  0.34991612, -0.02679558, -1.31992426]])"
      ]
     },
     "execution_count": 21,
     "metadata": {},
     "output_type": "execute_result"
    }
   ],
   "source": [
    "# 需求：股票涨跌幅统计运算\n",
    "temp"
   ]
  },
  {
   "cell_type": "code",
   "execution_count": 24,
   "id": "16bf0132",
   "metadata": {},
   "outputs": [
    {
     "data": {
      "text/plain": [
       "array([1.1, 1.1, 1.1, 1.1])"
      ]
     },
     "execution_count": 24,
     "metadata": {},
     "output_type": "execute_result"
    }
   ],
   "source": [
    "np.max(temp,axis=1)"
   ]
  },
  {
   "cell_type": "code",
   "execution_count": 23,
   "id": "25483b77",
   "metadata": {},
   "outputs": [
    {
     "data": {
      "text/plain": [
       "1.1"
      ]
     },
     "execution_count": 23,
     "metadata": {},
     "output_type": "execute_result"
    }
   ],
   "source": [
    "temp.max()"
   ]
  },
  {
   "cell_type": "code",
   "execution_count": 25,
   "id": "c4c0ce8e",
   "metadata": {},
   "outputs": [
    {
     "data": {
      "text/plain": [
       "array([1, 1, 1, 0])"
      ]
     },
     "execution_count": 25,
     "metadata": {},
     "output_type": "execute_result"
    }
   ],
   "source": [
    "np.argmax(temp,axis=1)"
   ]
  },
  {
   "cell_type": "markdown",
   "id": "7cd1dcba",
   "metadata": {},
   "source": [
    "### 数组间运算"
   ]
  },
  {
   "cell_type": "code",
   "execution_count": 26,
   "id": "29b4f934",
   "metadata": {},
   "outputs": [],
   "source": [
    "# 数组与数的运算\n",
    "arr = np.array([[1, 2, 3, 2, 1, 4], [5, 6, 1, 2, 3, 1]])"
   ]
  },
  {
   "cell_type": "code",
   "execution_count": 27,
   "id": "46e7c13e",
   "metadata": {},
   "outputs": [
    {
     "data": {
      "text/plain": [
       "array([[0.1, 0.2, 0.3, 0.2, 0.1, 0.4],\n",
       "       [0.5, 0.6, 0.1, 0.2, 0.3, 0.1]])"
      ]
     },
     "execution_count": 27,
     "metadata": {},
     "output_type": "execute_result"
    }
   ],
   "source": [
    "# 每个元素除10\n",
    "arr / 10"
   ]
  },
  {
   "cell_type": "code",
   "execution_count": 28,
   "id": "65e97bb0",
   "metadata": {},
   "outputs": [],
   "source": [
    "# 数组 与数组的运算\n",
    "arr1 = np.array([[1, 2, 3, 2, 1, 4], [5, 6, 1, 2, 3, 1]])\n",
    "arr2 = np.array([[1, 2, 3, 4], [3, 4, 5, 6]])\n"
   ]
  },
  {
   "cell_type": "code",
   "execution_count": 30,
   "id": "e28bb42f",
   "metadata": {},
   "outputs": [],
   "source": [
    "# 广播机制 broadcast 为了是的两个不同形状的ndarray进行数学运算\n",
    "# 当操作两个数组额时候，numpy会逐个比对他们的shape，只有在下列情况下，两个数组才能进行运算：\n",
    "# 1）维度相等\n",
    "# 2） shape（其中相对应的一个地方为1）"
   ]
  },
  {
   "cell_type": "code",
   "execution_count": 31,
   "id": "4051c405",
   "metadata": {},
   "outputs": [],
   "source": [
    "arr1 = np.array([[1, 2, 3, 2, 1, 4], [5, 6, 1, 2, 3, 1]])\n",
    "arr2 = np.array([[1], [3]])"
   ]
  },
  {
   "cell_type": "code",
   "execution_count": 32,
   "id": "bf0932a9",
   "metadata": {},
   "outputs": [
    {
     "data": {
      "text/plain": [
       "array([[1],\n",
       "       [3]])"
      ]
     },
     "execution_count": 32,
     "metadata": {},
     "output_type": "execute_result"
    }
   ],
   "source": [
    "arr1 # (2,6)\n",
    "arr2 # (2,1)\n",
    "# 第一列两个维度都为2，第二列有一个1，可以进行运算"
   ]
  },
  {
   "cell_type": "code",
   "execution_count": 33,
   "id": "e30bf83b",
   "metadata": {},
   "outputs": [
    {
     "data": {
      "text/plain": [
       "array([[ 1,  2,  3,  2,  1,  4],\n",
       "       [15, 18,  3,  6,  9,  3]])"
      ]
     },
     "execution_count": 33,
     "metadata": {},
     "output_type": "execute_result"
    }
   ],
   "source": [
    "arr1 * arr2"
   ]
  },
  {
   "cell_type": "markdown",
   "id": "5b4d9dae",
   "metadata": {},
   "source": [
    "### 矩阵运算"
   ]
  },
  {
   "cell_type": "code",
   "execution_count": 34,
   "id": "87f0a292",
   "metadata": {},
   "outputs": [],
   "source": [
    "# ndarray存储矩阵\n",
    "data = np.array([[80, 86],\n",
    "[82, 80],\n",
    "[85, 78],\n",
    "[90, 90],\n",
    "[86, 82],\n",
    "[82, 90],\n",
    "[78, 80],\n",
    "[92, 94]])"
   ]
  },
  {
   "cell_type": "code",
   "execution_count": 35,
   "id": "b860299d",
   "metadata": {},
   "outputs": [
    {
     "data": {
      "text/plain": [
       "array([[80, 86],\n",
       "       [82, 80],\n",
       "       [85, 78],\n",
       "       [90, 90],\n",
       "       [86, 82],\n",
       "       [82, 90],\n",
       "       [78, 80],\n",
       "       [92, 94]])"
      ]
     },
     "execution_count": 35,
     "metadata": {},
     "output_type": "execute_result"
    }
   ],
   "source": [
    "data"
   ]
  },
  {
   "cell_type": "code",
   "execution_count": 36,
   "id": "01f55cf9",
   "metadata": {},
   "outputs": [],
   "source": [
    "# matrix存储矩阵\n",
    "data_mat=np.mat([[80, 86],\n",
    "[82, 80],\n",
    "[85, 78],\n",
    "[90, 90],\n",
    "[86, 82],\n",
    "[82, 90],\n",
    "[78, 80],\n",
    "[92, 94]])"
   ]
  },
  {
   "cell_type": "code",
   "execution_count": 37,
   "id": "92a744fb",
   "metadata": {},
   "outputs": [
    {
     "data": {
      "text/plain": [
       "matrix([[80, 86],\n",
       "        [82, 80],\n",
       "        [85, 78],\n",
       "        [90, 90],\n",
       "        [86, 82],\n",
       "        [82, 90],\n",
       "        [78, 80],\n",
       "        [92, 94]])"
      ]
     },
     "execution_count": 37,
     "metadata": {},
     "output_type": "execute_result"
    }
   ],
   "source": [
    "data_mat"
   ]
  },
  {
   "cell_type": "code",
   "execution_count": 38,
   "id": "d13f1f78",
   "metadata": {},
   "outputs": [],
   "source": [
    "# 矩阵乘法\n",
    "# 形状要求：(m,n)*(n*l)=(m,l)"
   ]
  },
  {
   "cell_type": "code",
   "execution_count": 39,
   "id": "5dad7c9b",
   "metadata": {},
   "outputs": [],
   "source": [
    "weights=np.array([[0.3],[0.7]])"
   ]
  },
  {
   "cell_type": "code",
   "execution_count": 43,
   "id": "ce17ec59",
   "metadata": {},
   "outputs": [
    {
     "data": {
      "text/plain": [
       "array([[84.2],\n",
       "       [80.6],\n",
       "       [80.1],\n",
       "       [90. ],\n",
       "       [83.2],\n",
       "       [87.6],\n",
       "       [79.4],\n",
       "       [93.4]])"
      ]
     },
     "execution_count": 43,
     "metadata": {},
     "output_type": "execute_result"
    }
   ],
   "source": [
    "# 如果使用的是ndarray存储的：np.matmul   np.dot\n",
    "np.matmul(data,weights)"
   ]
  },
  {
   "cell_type": "code",
   "execution_count": 44,
   "id": "1fe90156",
   "metadata": {},
   "outputs": [
    {
     "data": {
      "text/plain": [
       "array([[84.2],\n",
       "       [80.6],\n",
       "       [80.1],\n",
       "       [90. ],\n",
       "       [83.2],\n",
       "       [87.6],\n",
       "       [79.4],\n",
       "       [93.4]])"
      ]
     },
     "execution_count": 44,
     "metadata": {},
     "output_type": "execute_result"
    }
   ],
   "source": [
    "np.dot(data,weights)"
   ]
  },
  {
   "cell_type": "code",
   "execution_count": 47,
   "id": "265d7e49",
   "metadata": {},
   "outputs": [],
   "source": [
    "weights_mat=np.mat([[0.3],[0.7]])"
   ]
  },
  {
   "cell_type": "code",
   "execution_count": 48,
   "id": "03e15f8f",
   "metadata": {},
   "outputs": [
    {
     "data": {
      "text/plain": [
       "matrix([[84.2],\n",
       "        [80.6],\n",
       "        [80.1],\n",
       "        [90. ],\n",
       "        [83.2],\n",
       "        [87.6],\n",
       "        [79.4],\n",
       "        [93.4]])"
      ]
     },
     "execution_count": 48,
     "metadata": {},
     "output_type": "execute_result"
    }
   ],
   "source": [
    "# 如果是matrix存储的\n",
    "data_mat * weights_mat"
   ]
  },
  {
   "cell_type": "code",
   "execution_count": 46,
   "id": "b2d30f3d",
   "metadata": {},
   "outputs": [
    {
     "data": {
      "text/plain": [
       "array([[84.2],\n",
       "       [80.6],\n",
       "       [80.1],\n",
       "       [90. ],\n",
       "       [83.2],\n",
       "       [87.6],\n",
       "       [79.4],\n",
       "       [93.4]])"
      ]
     },
     "execution_count": 46,
     "metadata": {},
     "output_type": "execute_result"
    }
   ],
   "source": [
    "# ndarray也可以使用@计算\n",
    "data @ weights"
   ]
  },
  {
   "cell_type": "code",
   "execution_count": 49,
   "id": "43a1ebfa",
   "metadata": {},
   "outputs": [],
   "source": [
    "# data   和  weight不能进行计算，因为不满足广播机制"
   ]
  },
  {
   "cell_type": "code",
   "execution_count": 50,
   "id": "bbf593e9",
   "metadata": {},
   "outputs": [],
   "source": [
    "# 合并，分割"
   ]
  },
  {
   "cell_type": "code",
   "execution_count": 51,
   "id": "14e44910",
   "metadata": {},
   "outputs": [],
   "source": [
    "a = stock_change[:2, 0:4]\n",
    "b = stock_change[4:6, 0:4]"
   ]
  },
  {
   "cell_type": "code",
   "execution_count": 52,
   "id": "35fcd993",
   "metadata": {},
   "outputs": [
    {
     "data": {
      "text/plain": [
       "array([[-0.15300127,  1.1       ,  1.1       , -0.35333398],\n",
       "       [-0.11259722,  1.1       , -0.12602656, -1.77213498]])"
      ]
     },
     "execution_count": 52,
     "metadata": {},
     "output_type": "execute_result"
    }
   ],
   "source": [
    "a"
   ]
  },
  {
   "cell_type": "code",
   "execution_count": 53,
   "id": "833ffb62",
   "metadata": {},
   "outputs": [
    {
     "data": {
      "text/plain": [
       "array([[ 1.1       ,  0.08581109,  1.1       , -1.17488511],\n",
       "       [-1.27300928, -0.40661829, -1.12781498, -0.61512274]])"
      ]
     },
     "execution_count": 53,
     "metadata": {},
     "output_type": "execute_result"
    }
   ],
   "source": [
    "b"
   ]
  },
  {
   "cell_type": "code",
   "execution_count": 54,
   "id": "895debe8",
   "metadata": {},
   "outputs": [
    {
     "data": {
      "text/plain": [
       "array([[-0.15300127,  1.1       ,  1.1       , -0.35333398,  1.1       ,\n",
       "         0.08581109,  1.1       , -1.17488511],\n",
       "       [-0.11259722,  1.1       , -0.12602656, -1.77213498, -1.27300928,\n",
       "        -0.40661829, -1.12781498, -0.61512274]])"
      ]
     },
     "execution_count": 54,
     "metadata": {},
     "output_type": "execute_result"
    }
   ],
   "source": [
    "np.hstack((a,b))"
   ]
  },
  {
   "cell_type": "code",
   "execution_count": 56,
   "id": "9b1be7f4",
   "metadata": {},
   "outputs": [
    {
     "data": {
      "text/plain": [
       "array([[-0.15300127,  1.1       ,  1.1       , -0.35333398,  1.1       ,\n",
       "         0.08581109,  1.1       , -1.17488511],\n",
       "       [-0.11259722,  1.1       , -0.12602656, -1.77213498, -1.27300928,\n",
       "        -0.40661829, -1.12781498, -0.61512274]])"
      ]
     },
     "execution_count": 56,
     "metadata": {},
     "output_type": "execute_result"
    }
   ],
   "source": [
    "np.concatenate((a,b),axis=1)"
   ]
  },
  {
   "cell_type": "code",
   "execution_count": 57,
   "id": "1a9ef87b",
   "metadata": {
    "scrolled": true
   },
   "outputs": [
    {
     "data": {
      "text/plain": [
       "array([[-0.15300127,  1.1       ,  1.1       , -0.35333398],\n",
       "       [-0.11259722,  1.1       , -0.12602656, -1.77213498],\n",
       "       [ 1.1       ,  0.08581109,  1.1       , -1.17488511],\n",
       "       [-1.27300928, -0.40661829, -1.12781498, -0.61512274]])"
      ]
     },
     "execution_count": 57,
     "metadata": {},
     "output_type": "execute_result"
    }
   ],
   "source": [
    "np.concatenate((a,b),axis=0)"
   ]
  },
  {
   "cell_type": "markdown",
   "id": "a08cccae",
   "metadata": {},
   "source": [
    "### IO操作与数据输出"
   ]
  },
  {
   "cell_type": "code",
   "execution_count": 61,
   "id": "da29a74e",
   "metadata": {},
   "outputs": [],
   "source": [
    "# 读取数据\n",
    "data=np.genfromtxt(\"test.csv\",delimiter=\",\")"
   ]
  },
  {
   "cell_type": "code",
   "execution_count": 62,
   "id": "f85ed397",
   "metadata": {},
   "outputs": [
    {
     "data": {
      "text/plain": [
       "array([[  nan,   nan,   nan,   nan],\n",
       "       [  1. , 123. ,   1.4,  23. ],\n",
       "       [  2. , 110. ,   nan,  18. ],\n",
       "       [  3. ,   nan,   2.1,  19. ]])"
      ]
     },
     "execution_count": 62,
     "metadata": {},
     "output_type": "execute_result"
    }
   ],
   "source": [
    "data"
   ]
  },
  {
   "cell_type": "code",
   "execution_count": 63,
   "id": "be518aa9",
   "metadata": {},
   "outputs": [],
   "source": [
    "# numpy遇到字符串会解析成nan，因此一般不使用numpy读取数据"
   ]
  },
  {
   "cell_type": "code",
   "execution_count": 64,
   "id": "ca19abcc",
   "metadata": {},
   "outputs": [],
   "source": [
    "# 如何处理遇到缺失值nan的问题\n",
    "# 两种方法：1.直接丢弃样本；2.使用替换/插补法"
   ]
  },
  {
   "cell_type": "code",
   "execution_count": 65,
   "id": "778f9903",
   "metadata": {},
   "outputs": [],
   "source": [
    "def fill_nan_by_column_mean(t):\n",
    "    for i in range(t.shape[1]):\n",
    "        # 计算nan的个数\n",
    "        nan_num = np.count_nonzero(t[:, i][t[:, i] != t[:, i]])\n",
    "        if nan_num > 0:\n",
    "            now_col = t[:, i]\n",
    "            # 求和\n",
    "            now_col_not_nan = now_col[np.isnan(now_col) == False].sum()\n",
    "            # 和/个数\n",
    "            now_col_mean = now_col_not_nan / (t.shape[0] - nan_num)\n",
    "            # 赋值给now_col\n",
    "            now_col[np.isnan(now_col)] = now_col_mean\n",
    "            # 赋值给t，即更新t的当前列\n",
    "            t[:, i] = now_col\n",
    "    return t"
   ]
  },
  {
   "cell_type": "code",
   "execution_count": 66,
   "id": "68e22853",
   "metadata": {},
   "outputs": [
    {
     "data": {
      "text/plain": [
       "array([[  2.  , 116.5 ,   1.75,  20.  ],\n",
       "       [  1.  , 123.  ,   1.4 ,  23.  ],\n",
       "       [  2.  , 110.  ,   1.75,  18.  ],\n",
       "       [  3.  , 116.5 ,   2.1 ,  19.  ]])"
      ]
     },
     "execution_count": 66,
     "metadata": {},
     "output_type": "execute_result"
    }
   ],
   "source": [
    "fill_nan_by_column_mean(data)"
   ]
  },
  {
   "cell_type": "code",
   "execution_count": null,
   "id": "02ce51d1",
   "metadata": {},
   "outputs": [],
   "source": []
  }
 ],
 "metadata": {
  "kernelspec": {
   "display_name": "Python 3",
   "language": "python",
   "name": "python3"
  },
  "language_info": {
   "codemirror_mode": {
    "name": "ipython",
    "version": 3
   },
   "file_extension": ".py",
   "mimetype": "text/x-python",
   "name": "python",
   "nbconvert_exporter": "python",
   "pygments_lexer": "ipython3",
   "version": "3.6.8"
  }
 },
 "nbformat": 4,
 "nbformat_minor": 5
}
